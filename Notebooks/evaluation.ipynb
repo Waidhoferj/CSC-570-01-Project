{
 "cells": [
  {
   "cell_type": "code",
   "execution_count": 19,
   "metadata": {},
   "outputs": [],
   "source": [
    "import pandas as pd\n",
    "import numpy as np\n",
    "import json\n",
    "pd.options.plotting.backend = 'plotly'\n",
    "\n"
   ]
  },
  {
   "cell_type": "code",
   "execution_count": 10,
   "metadata": {},
   "outputs": [],
   "source": [
    "def load_results():\n",
    "    agents = [\"ida_star\", \"random\", \"soft_actor_critic\", \"a2c\"]\n",
    "    df = pd.DataFrame()\n",
    "    for agent in agents:\n",
    "        with open(f\"../Results/{agent}_results.json\", \"r\") as f:\n",
    "            data = json.load(f)\n",
    "            data= pd.DataFrame(data).T\n",
    "            data[\"agent\"] = agent\n",
    "            df = pd.concat([df, data])\n",
    "    return df\n",
    "df = load_results()"
   ]
  },
  {
   "cell_type": "code",
   "execution_count": 11,
   "metadata": {},
   "outputs": [
    {
     "data": {
      "text/plain": [
       "array(['ida_star', 'random', 'soft_actor_critic', 'a2c'], dtype=object)"
      ]
     },
     "execution_count": 11,
     "metadata": {},
     "output_type": "execute_result"
    }
   ],
   "source": [
    "df[\"agent\"].unique()"
   ]
  },
  {
   "cell_type": "code",
   "execution_count": 12,
   "metadata": {},
   "outputs": [
    {
     "data": {
      "text/plain": [
       "agent\n",
       "a2c                  0.011905\n",
       "ida_star             0.652542\n",
       "random               0.330508\n",
       "soft_actor_critic    0.166667\n",
       "Name: won, dtype: object"
      ]
     },
     "execution_count": 12,
     "metadata": {},
     "output_type": "execute_result"
    }
   ],
   "source": [
    "# Proportion of wins\n",
    "df.groupby(\"agent\")[\"won\"].sum() / df.groupby(\"agent\")[\"won\"].count()"
   ]
  },
  {
   "cell_type": "code",
   "execution_count": 13,
   "metadata": {},
   "outputs": [
    {
     "data": {
      "text/html": [
       "<div>\n",
       "<style scoped>\n",
       "    .dataframe tbody tr th:only-of-type {\n",
       "        vertical-align: middle;\n",
       "    }\n",
       "\n",
       "    .dataframe tbody tr th {\n",
       "        vertical-align: top;\n",
       "    }\n",
       "\n",
       "    .dataframe thead th {\n",
       "        text-align: right;\n",
       "    }\n",
       "</style>\n",
       "<table border=\"1\" class=\"dataframe\">\n",
       "  <thead>\n",
       "    <tr style=\"text-align: right;\">\n",
       "      <th></th>\n",
       "      <th>score</th>\n",
       "      <th>steps</th>\n",
       "    </tr>\n",
       "    <tr>\n",
       "      <th>agent</th>\n",
       "      <th></th>\n",
       "      <th></th>\n",
       "    </tr>\n",
       "  </thead>\n",
       "  <tbody>\n",
       "    <tr>\n",
       "      <th>a2c</th>\n",
       "      <td>-96.440476</td>\n",
       "      <td>185.809524</td>\n",
       "    </tr>\n",
       "    <tr>\n",
       "      <th>ida_star</th>\n",
       "      <td>128.381356</td>\n",
       "      <td>4.906780</td>\n",
       "    </tr>\n",
       "    <tr>\n",
       "      <th>random</th>\n",
       "      <td>-33.233051</td>\n",
       "      <td>119.737288</td>\n",
       "    </tr>\n",
       "    <tr>\n",
       "      <th>soft_actor_critic</th>\n",
       "      <td>-64.017857</td>\n",
       "      <td>128.535714</td>\n",
       "    </tr>\n",
       "  </tbody>\n",
       "</table>\n",
       "</div>"
      ],
      "text/plain": [
       "                        score       steps\n",
       "agent                                    \n",
       "a2c                -96.440476  185.809524\n",
       "ida_star           128.381356    4.906780\n",
       "random             -33.233051  119.737288\n",
       "soft_actor_critic  -64.017857  128.535714"
      ]
     },
     "execution_count": 13,
     "metadata": {},
     "output_type": "execute_result"
    }
   ],
   "source": [
    "df.groupby(\"agent\")[[\"score\", \"steps\"]].mean()"
   ]
  },
  {
   "cell_type": "code",
   "execution_count": 26,
   "metadata": {},
   "outputs": [
    {
     "data": {
      "application/vnd.plotly.v1+json": {
       "config": {
        "plotlyServerURL": "https://plot.ly"
       },
       "data": [
        {
         "alignmentgroup": "True",
         "hovertemplate": "agent=%{x}<br>score=%{y}<extra></extra>",
         "legendgroup": "",
         "marker": {
          "color": "#636efa"
         },
         "name": "",
         "notched": false,
         "offsetgroup": "",
         "orientation": "v",
         "showlegend": false,
         "type": "box",
         "x": [
          "ida_star",
          "ida_star",
          "ida_star",
          "ida_star",
          "ida_star",
          "ida_star",
          "ida_star",
          "ida_star",
          "ida_star",
          "ida_star",
          "ida_star",
          "ida_star",
          "ida_star",
          "ida_star",
          "ida_star",
          "ida_star",
          "ida_star",
          "ida_star",
          "ida_star",
          "ida_star",
          "ida_star",
          "ida_star",
          "ida_star",
          "ida_star",
          "ida_star",
          "ida_star",
          "ida_star",
          "ida_star",
          "ida_star",
          "ida_star",
          "ida_star",
          "ida_star",
          "ida_star",
          "ida_star",
          "ida_star",
          "ida_star",
          "ida_star",
          "ida_star",
          "ida_star",
          "ida_star",
          "ida_star",
          "ida_star",
          "ida_star",
          "ida_star",
          "ida_star",
          "ida_star",
          "ida_star",
          "ida_star",
          "ida_star",
          "ida_star",
          "ida_star",
          "ida_star",
          "ida_star",
          "ida_star",
          "ida_star",
          "ida_star",
          "ida_star",
          "ida_star",
          "ida_star",
          "ida_star",
          "ida_star",
          "ida_star",
          "ida_star",
          "ida_star",
          "ida_star",
          "ida_star",
          "ida_star",
          "ida_star",
          "ida_star",
          "ida_star",
          "ida_star",
          "ida_star",
          "ida_star",
          "ida_star",
          "ida_star",
          "ida_star",
          "ida_star",
          "ida_star",
          "ida_star",
          "ida_star",
          "ida_star",
          "ida_star",
          "ida_star",
          "ida_star",
          "ida_star",
          "ida_star",
          "ida_star",
          "ida_star",
          "ida_star",
          "ida_star",
          "ida_star",
          "ida_star",
          "ida_star",
          "ida_star",
          "ida_star",
          "ida_star",
          "ida_star",
          "ida_star",
          "ida_star",
          "ida_star",
          "ida_star",
          "ida_star",
          "ida_star",
          "ida_star",
          "ida_star",
          "ida_star",
          "ida_star",
          "ida_star",
          "ida_star",
          "ida_star",
          "ida_star",
          "ida_star",
          "ida_star",
          "ida_star",
          "ida_star",
          "ida_star",
          "ida_star",
          "ida_star",
          "random",
          "random",
          "random",
          "random",
          "random",
          "random",
          "random",
          "random",
          "random",
          "random",
          "random",
          "random",
          "random",
          "random",
          "random",
          "random",
          "random",
          "random",
          "random",
          "random",
          "random",
          "random",
          "random",
          "random",
          "random",
          "random",
          "random",
          "random",
          "random",
          "random",
          "random",
          "random",
          "random",
          "random",
          "random",
          "random",
          "random",
          "random",
          "random",
          "random",
          "random",
          "random",
          "random",
          "random",
          "random",
          "random",
          "random",
          "random",
          "random",
          "random",
          "random",
          "random",
          "random",
          "random",
          "random",
          "random",
          "random",
          "random",
          "random",
          "random",
          "random",
          "random",
          "random",
          "random",
          "random",
          "random",
          "random",
          "random",
          "random",
          "random",
          "random",
          "random",
          "random",
          "random",
          "random",
          "random",
          "random",
          "random",
          "random",
          "random",
          "random",
          "random",
          "random",
          "random",
          "random",
          "random",
          "random",
          "random",
          "random",
          "random",
          "random",
          "random",
          "random",
          "random",
          "random",
          "random",
          "random",
          "random",
          "random",
          "random",
          "random",
          "random",
          "random",
          "random",
          "random",
          "random",
          "random",
          "random",
          "random",
          "random",
          "random",
          "random",
          "random",
          "random",
          "random",
          "random",
          "random",
          "random",
          "soft_actor_critic",
          "soft_actor_critic",
          "soft_actor_critic",
          "soft_actor_critic",
          "soft_actor_critic",
          "soft_actor_critic",
          "soft_actor_critic",
          "soft_actor_critic",
          "soft_actor_critic",
          "soft_actor_critic",
          "soft_actor_critic",
          "soft_actor_critic",
          "soft_actor_critic",
          "soft_actor_critic",
          "soft_actor_critic",
          "soft_actor_critic",
          "soft_actor_critic",
          "soft_actor_critic",
          "soft_actor_critic",
          "soft_actor_critic",
          "soft_actor_critic",
          "soft_actor_critic",
          "soft_actor_critic",
          "soft_actor_critic",
          "soft_actor_critic",
          "soft_actor_critic",
          "soft_actor_critic",
          "soft_actor_critic",
          "soft_actor_critic",
          "soft_actor_critic",
          "soft_actor_critic",
          "soft_actor_critic",
          "soft_actor_critic",
          "soft_actor_critic",
          "soft_actor_critic",
          "soft_actor_critic",
          "soft_actor_critic",
          "soft_actor_critic",
          "soft_actor_critic",
          "soft_actor_critic",
          "soft_actor_critic",
          "soft_actor_critic",
          "soft_actor_critic",
          "soft_actor_critic",
          "soft_actor_critic",
          "soft_actor_critic",
          "soft_actor_critic",
          "soft_actor_critic",
          "soft_actor_critic",
          "soft_actor_critic",
          "soft_actor_critic",
          "soft_actor_critic",
          "soft_actor_critic",
          "soft_actor_critic",
          "soft_actor_critic",
          "soft_actor_critic",
          "soft_actor_critic",
          "soft_actor_critic",
          "soft_actor_critic",
          "soft_actor_critic",
          "soft_actor_critic",
          "soft_actor_critic",
          "soft_actor_critic",
          "soft_actor_critic",
          "soft_actor_critic",
          "soft_actor_critic",
          "soft_actor_critic",
          "soft_actor_critic",
          "soft_actor_critic",
          "soft_actor_critic",
          "soft_actor_critic",
          "soft_actor_critic",
          "soft_actor_critic",
          "soft_actor_critic",
          "soft_actor_critic",
          "soft_actor_critic",
          "soft_actor_critic",
          "soft_actor_critic",
          "soft_actor_critic",
          "soft_actor_critic",
          "soft_actor_critic",
          "soft_actor_critic",
          "soft_actor_critic",
          "soft_actor_critic",
          "a2c",
          "a2c",
          "a2c",
          "a2c",
          "a2c",
          "a2c",
          "a2c",
          "a2c",
          "a2c",
          "a2c",
          "a2c",
          "a2c",
          "a2c",
          "a2c",
          "a2c",
          "a2c",
          "a2c",
          "a2c",
          "a2c",
          "a2c",
          "a2c",
          "a2c",
          "a2c",
          "a2c",
          "a2c",
          "a2c",
          "a2c",
          "a2c",
          "a2c",
          "a2c",
          "a2c",
          "a2c",
          "a2c",
          "a2c",
          "a2c",
          "a2c",
          "a2c",
          "a2c",
          "a2c",
          "a2c",
          "a2c",
          "a2c",
          "a2c",
          "a2c",
          "a2c",
          "a2c",
          "a2c",
          "a2c",
          "a2c",
          "a2c",
          "a2c",
          "a2c",
          "a2c",
          "a2c",
          "a2c",
          "a2c",
          "a2c",
          "a2c",
          "a2c",
          "a2c",
          "a2c",
          "a2c",
          "a2c",
          "a2c",
          "a2c",
          "a2c",
          "a2c",
          "a2c",
          "a2c",
          "a2c",
          "a2c",
          "a2c",
          "a2c",
          "a2c",
          "a2c",
          "a2c",
          "a2c",
          "a2c",
          "a2c",
          "a2c",
          "a2c",
          "a2c",
          "a2c",
          "a2c"
         ],
         "x0": " ",
         "xaxis": "x",
         "y": [
          0,
          0,
          195.5,
          195.5,
          0,
          199,
          199,
          0,
          195,
          193.5,
          198,
          196.5,
          199,
          200,
          200,
          194,
          199,
          199.5,
          197,
          198.5,
          199,
          197.5,
          197,
          197.5,
          194.5,
          196,
          196,
          196.5,
          195,
          196.5,
          199,
          0,
          0,
          0,
          194.5,
          0,
          198.5,
          0,
          198,
          198.5,
          0,
          194.5,
          196.5,
          0,
          199,
          198,
          192,
          195,
          0,
          0,
          198,
          196.5,
          0,
          0,
          198.5,
          196,
          199.5,
          196,
          197.5,
          199,
          198.5,
          197.5,
          198,
          198,
          199.5,
          196,
          196,
          0,
          0,
          0,
          197.5,
          0,
          0,
          192.5,
          0,
          199,
          0,
          0,
          0,
          198,
          198,
          199,
          0,
          0,
          195.5,
          194.5,
          0,
          0,
          193.5,
          0,
          197.5,
          0,
          192.5,
          199,
          0,
          0,
          0,
          191,
          198,
          197.5,
          195,
          195,
          193.5,
          193,
          0,
          200,
          0,
          0,
          0,
          0,
          195,
          0,
          0,
          195.5,
          197.5,
          0,
          197.5,
          191.5,
          -104,
          -125,
          -125,
          121,
          -130,
          -156.5,
          -140,
          -100.5,
          102,
          -125,
          123.5,
          -125,
          183,
          195.5,
          200,
          -125,
          194.5,
          198,
          166.5,
          195,
          -116,
          176.5,
          -115.5,
          -125,
          -103,
          150.5,
          -184,
          -125,
          -125,
          154,
          -112.5,
          -101.5,
          -103,
          -104,
          -167.5,
          -125,
          -159.5,
          -118.5,
          189,
          180,
          -125,
          164.5,
          -130,
          -100,
          152.5,
          -112,
          -125,
          -101,
          -125,
          -112,
          -135.5,
          -137,
          -192.5,
          -206,
          -134.5,
          -112,
          -125,
          116.5,
          155,
          161.5,
          194.5,
          142,
          -125,
          175.5,
          185.5,
          88,
          94,
          -125,
          -125,
          -125,
          -103.5,
          -106,
          -213,
          168,
          -125,
          -103,
          -125,
          -158,
          -117.5,
          193.5,
          167,
          -112,
          -109,
          -187.5,
          165,
          -138.5,
          -125,
          -125,
          95,
          -148.5,
          -123.5,
          -125,
          -125,
          -104.5,
          -125,
          -106,
          -125,
          -125,
          136.5,
          -125,
          -125,
          103,
          -125,
          -145,
          -125,
          200,
          -100,
          191,
          -101,
          -100,
          94.5,
          -100,
          -101,
          131.5,
          -125,
          78,
          163,
          -125,
          -165,
          -100,
          193,
          -100,
          168.5,
          -100,
          -100,
          -109.5,
          -115,
          -116,
          156,
          -142,
          -100,
          -100,
          -100,
          -100,
          -199.5,
          -100,
          -100,
          -118.5,
          -100,
          -116,
          -144,
          -100,
          159,
          -100,
          189,
          118,
          -138,
          168,
          -100,
          -100,
          -100,
          -100,
          -100,
          -100,
          -139,
          -150.5,
          -141.5,
          -100,
          -100,
          198,
          -100,
          -143.5,
          -102,
          177,
          166,
          -161,
          -100,
          -100.5,
          -100,
          -100,
          -100,
          -100,
          -100,
          -123,
          -129,
          -100,
          -100,
          -102,
          -136,
          -100.5,
          -100,
          -100,
          -100,
          -100,
          133,
          -100,
          -100,
          -100,
          -100,
          200,
          -165,
          -100,
          -100,
          -100,
          168.5,
          -103,
          -100,
          -100,
          188.5,
          -100,
          -100,
          -100,
          -100,
          -100,
          -100,
          -100,
          -100,
          -100,
          -100,
          -100,
          -100,
          -100,
          -100,
          -100,
          -100,
          -100,
          -100,
          -100,
          -100,
          -100,
          -100,
          -100,
          -100,
          -100,
          -100,
          -100,
          -100,
          -100,
          -100,
          -100,
          -100,
          -100,
          -100,
          -100,
          -100,
          -100,
          -100,
          -100,
          -100,
          -100,
          -100,
          -100,
          -100,
          -100,
          -100,
          -100,
          -100,
          -100,
          -100,
          -100,
          -100,
          -100,
          -100,
          -100,
          -100,
          -100,
          -100,
          -100,
          -100,
          -100,
          -100,
          -100,
          -100,
          -100,
          -100,
          -100,
          -100,
          -100,
          -100,
          -100,
          -100,
          -100,
          -100,
          200,
          -100,
          -100,
          -100,
          -100.5,
          -100.5,
          -100,
          -100,
          -100,
          -100,
          -100,
          -100,
          -100
         ],
         "y0": " ",
         "yaxis": "y"
        }
       ],
       "layout": {
        "boxmode": "group",
        "legend": {
         "tracegroupgap": 0
        },
        "template": {
         "data": {
          "bar": [
           {
            "error_x": {
             "color": "#2a3f5f"
            },
            "error_y": {
             "color": "#2a3f5f"
            },
            "marker": {
             "line": {
              "color": "#E5ECF6",
              "width": 0.5
             },
             "pattern": {
              "fillmode": "overlay",
              "size": 10,
              "solidity": 0.2
             }
            },
            "type": "bar"
           }
          ],
          "barpolar": [
           {
            "marker": {
             "line": {
              "color": "#E5ECF6",
              "width": 0.5
             },
             "pattern": {
              "fillmode": "overlay",
              "size": 10,
              "solidity": 0.2
             }
            },
            "type": "barpolar"
           }
          ],
          "carpet": [
           {
            "aaxis": {
             "endlinecolor": "#2a3f5f",
             "gridcolor": "white",
             "linecolor": "white",
             "minorgridcolor": "white",
             "startlinecolor": "#2a3f5f"
            },
            "baxis": {
             "endlinecolor": "#2a3f5f",
             "gridcolor": "white",
             "linecolor": "white",
             "minorgridcolor": "white",
             "startlinecolor": "#2a3f5f"
            },
            "type": "carpet"
           }
          ],
          "choropleth": [
           {
            "colorbar": {
             "outlinewidth": 0,
             "ticks": ""
            },
            "type": "choropleth"
           }
          ],
          "contour": [
           {
            "colorbar": {
             "outlinewidth": 0,
             "ticks": ""
            },
            "colorscale": [
             [
              0,
              "#0d0887"
             ],
             [
              0.1111111111111111,
              "#46039f"
             ],
             [
              0.2222222222222222,
              "#7201a8"
             ],
             [
              0.3333333333333333,
              "#9c179e"
             ],
             [
              0.4444444444444444,
              "#bd3786"
             ],
             [
              0.5555555555555556,
              "#d8576b"
             ],
             [
              0.6666666666666666,
              "#ed7953"
             ],
             [
              0.7777777777777778,
              "#fb9f3a"
             ],
             [
              0.8888888888888888,
              "#fdca26"
             ],
             [
              1,
              "#f0f921"
             ]
            ],
            "type": "contour"
           }
          ],
          "contourcarpet": [
           {
            "colorbar": {
             "outlinewidth": 0,
             "ticks": ""
            },
            "type": "contourcarpet"
           }
          ],
          "heatmap": [
           {
            "colorbar": {
             "outlinewidth": 0,
             "ticks": ""
            },
            "colorscale": [
             [
              0,
              "#0d0887"
             ],
             [
              0.1111111111111111,
              "#46039f"
             ],
             [
              0.2222222222222222,
              "#7201a8"
             ],
             [
              0.3333333333333333,
              "#9c179e"
             ],
             [
              0.4444444444444444,
              "#bd3786"
             ],
             [
              0.5555555555555556,
              "#d8576b"
             ],
             [
              0.6666666666666666,
              "#ed7953"
             ],
             [
              0.7777777777777778,
              "#fb9f3a"
             ],
             [
              0.8888888888888888,
              "#fdca26"
             ],
             [
              1,
              "#f0f921"
             ]
            ],
            "type": "heatmap"
           }
          ],
          "heatmapgl": [
           {
            "colorbar": {
             "outlinewidth": 0,
             "ticks": ""
            },
            "colorscale": [
             [
              0,
              "#0d0887"
             ],
             [
              0.1111111111111111,
              "#46039f"
             ],
             [
              0.2222222222222222,
              "#7201a8"
             ],
             [
              0.3333333333333333,
              "#9c179e"
             ],
             [
              0.4444444444444444,
              "#bd3786"
             ],
             [
              0.5555555555555556,
              "#d8576b"
             ],
             [
              0.6666666666666666,
              "#ed7953"
             ],
             [
              0.7777777777777778,
              "#fb9f3a"
             ],
             [
              0.8888888888888888,
              "#fdca26"
             ],
             [
              1,
              "#f0f921"
             ]
            ],
            "type": "heatmapgl"
           }
          ],
          "histogram": [
           {
            "marker": {
             "pattern": {
              "fillmode": "overlay",
              "size": 10,
              "solidity": 0.2
             }
            },
            "type": "histogram"
           }
          ],
          "histogram2d": [
           {
            "colorbar": {
             "outlinewidth": 0,
             "ticks": ""
            },
            "colorscale": [
             [
              0,
              "#0d0887"
             ],
             [
              0.1111111111111111,
              "#46039f"
             ],
             [
              0.2222222222222222,
              "#7201a8"
             ],
             [
              0.3333333333333333,
              "#9c179e"
             ],
             [
              0.4444444444444444,
              "#bd3786"
             ],
             [
              0.5555555555555556,
              "#d8576b"
             ],
             [
              0.6666666666666666,
              "#ed7953"
             ],
             [
              0.7777777777777778,
              "#fb9f3a"
             ],
             [
              0.8888888888888888,
              "#fdca26"
             ],
             [
              1,
              "#f0f921"
             ]
            ],
            "type": "histogram2d"
           }
          ],
          "histogram2dcontour": [
           {
            "colorbar": {
             "outlinewidth": 0,
             "ticks": ""
            },
            "colorscale": [
             [
              0,
              "#0d0887"
             ],
             [
              0.1111111111111111,
              "#46039f"
             ],
             [
              0.2222222222222222,
              "#7201a8"
             ],
             [
              0.3333333333333333,
              "#9c179e"
             ],
             [
              0.4444444444444444,
              "#bd3786"
             ],
             [
              0.5555555555555556,
              "#d8576b"
             ],
             [
              0.6666666666666666,
              "#ed7953"
             ],
             [
              0.7777777777777778,
              "#fb9f3a"
             ],
             [
              0.8888888888888888,
              "#fdca26"
             ],
             [
              1,
              "#f0f921"
             ]
            ],
            "type": "histogram2dcontour"
           }
          ],
          "mesh3d": [
           {
            "colorbar": {
             "outlinewidth": 0,
             "ticks": ""
            },
            "type": "mesh3d"
           }
          ],
          "parcoords": [
           {
            "line": {
             "colorbar": {
              "outlinewidth": 0,
              "ticks": ""
             }
            },
            "type": "parcoords"
           }
          ],
          "pie": [
           {
            "automargin": true,
            "type": "pie"
           }
          ],
          "scatter": [
           {
            "fillpattern": {
             "fillmode": "overlay",
             "size": 10,
             "solidity": 0.2
            },
            "type": "scatter"
           }
          ],
          "scatter3d": [
           {
            "line": {
             "colorbar": {
              "outlinewidth": 0,
              "ticks": ""
             }
            },
            "marker": {
             "colorbar": {
              "outlinewidth": 0,
              "ticks": ""
             }
            },
            "type": "scatter3d"
           }
          ],
          "scattercarpet": [
           {
            "marker": {
             "colorbar": {
              "outlinewidth": 0,
              "ticks": ""
             }
            },
            "type": "scattercarpet"
           }
          ],
          "scattergeo": [
           {
            "marker": {
             "colorbar": {
              "outlinewidth": 0,
              "ticks": ""
             }
            },
            "type": "scattergeo"
           }
          ],
          "scattergl": [
           {
            "marker": {
             "colorbar": {
              "outlinewidth": 0,
              "ticks": ""
             }
            },
            "type": "scattergl"
           }
          ],
          "scattermapbox": [
           {
            "marker": {
             "colorbar": {
              "outlinewidth": 0,
              "ticks": ""
             }
            },
            "type": "scattermapbox"
           }
          ],
          "scatterpolar": [
           {
            "marker": {
             "colorbar": {
              "outlinewidth": 0,
              "ticks": ""
             }
            },
            "type": "scatterpolar"
           }
          ],
          "scatterpolargl": [
           {
            "marker": {
             "colorbar": {
              "outlinewidth": 0,
              "ticks": ""
             }
            },
            "type": "scatterpolargl"
           }
          ],
          "scatterternary": [
           {
            "marker": {
             "colorbar": {
              "outlinewidth": 0,
              "ticks": ""
             }
            },
            "type": "scatterternary"
           }
          ],
          "surface": [
           {
            "colorbar": {
             "outlinewidth": 0,
             "ticks": ""
            },
            "colorscale": [
             [
              0,
              "#0d0887"
             ],
             [
              0.1111111111111111,
              "#46039f"
             ],
             [
              0.2222222222222222,
              "#7201a8"
             ],
             [
              0.3333333333333333,
              "#9c179e"
             ],
             [
              0.4444444444444444,
              "#bd3786"
             ],
             [
              0.5555555555555556,
              "#d8576b"
             ],
             [
              0.6666666666666666,
              "#ed7953"
             ],
             [
              0.7777777777777778,
              "#fb9f3a"
             ],
             [
              0.8888888888888888,
              "#fdca26"
             ],
             [
              1,
              "#f0f921"
             ]
            ],
            "type": "surface"
           }
          ],
          "table": [
           {
            "cells": {
             "fill": {
              "color": "#EBF0F8"
             },
             "line": {
              "color": "white"
             }
            },
            "header": {
             "fill": {
              "color": "#C8D4E3"
             },
             "line": {
              "color": "white"
             }
            },
            "type": "table"
           }
          ]
         },
         "layout": {
          "annotationdefaults": {
           "arrowcolor": "#2a3f5f",
           "arrowhead": 0,
           "arrowwidth": 1
          },
          "autotypenumbers": "strict",
          "coloraxis": {
           "colorbar": {
            "outlinewidth": 0,
            "ticks": ""
           }
          },
          "colorscale": {
           "diverging": [
            [
             0,
             "#8e0152"
            ],
            [
             0.1,
             "#c51b7d"
            ],
            [
             0.2,
             "#de77ae"
            ],
            [
             0.3,
             "#f1b6da"
            ],
            [
             0.4,
             "#fde0ef"
            ],
            [
             0.5,
             "#f7f7f7"
            ],
            [
             0.6,
             "#e6f5d0"
            ],
            [
             0.7,
             "#b8e186"
            ],
            [
             0.8,
             "#7fbc41"
            ],
            [
             0.9,
             "#4d9221"
            ],
            [
             1,
             "#276419"
            ]
           ],
           "sequential": [
            [
             0,
             "#0d0887"
            ],
            [
             0.1111111111111111,
             "#46039f"
            ],
            [
             0.2222222222222222,
             "#7201a8"
            ],
            [
             0.3333333333333333,
             "#9c179e"
            ],
            [
             0.4444444444444444,
             "#bd3786"
            ],
            [
             0.5555555555555556,
             "#d8576b"
            ],
            [
             0.6666666666666666,
             "#ed7953"
            ],
            [
             0.7777777777777778,
             "#fb9f3a"
            ],
            [
             0.8888888888888888,
             "#fdca26"
            ],
            [
             1,
             "#f0f921"
            ]
           ],
           "sequentialminus": [
            [
             0,
             "#0d0887"
            ],
            [
             0.1111111111111111,
             "#46039f"
            ],
            [
             0.2222222222222222,
             "#7201a8"
            ],
            [
             0.3333333333333333,
             "#9c179e"
            ],
            [
             0.4444444444444444,
             "#bd3786"
            ],
            [
             0.5555555555555556,
             "#d8576b"
            ],
            [
             0.6666666666666666,
             "#ed7953"
            ],
            [
             0.7777777777777778,
             "#fb9f3a"
            ],
            [
             0.8888888888888888,
             "#fdca26"
            ],
            [
             1,
             "#f0f921"
            ]
           ]
          },
          "colorway": [
           "#636efa",
           "#EF553B",
           "#00cc96",
           "#ab63fa",
           "#FFA15A",
           "#19d3f3",
           "#FF6692",
           "#B6E880",
           "#FF97FF",
           "#FECB52"
          ],
          "font": {
           "color": "#2a3f5f"
          },
          "geo": {
           "bgcolor": "white",
           "lakecolor": "white",
           "landcolor": "#E5ECF6",
           "showlakes": true,
           "showland": true,
           "subunitcolor": "white"
          },
          "hoverlabel": {
           "align": "left"
          },
          "hovermode": "closest",
          "mapbox": {
           "style": "light"
          },
          "paper_bgcolor": "white",
          "plot_bgcolor": "#E5ECF6",
          "polar": {
           "angularaxis": {
            "gridcolor": "white",
            "linecolor": "white",
            "ticks": ""
           },
           "bgcolor": "#E5ECF6",
           "radialaxis": {
            "gridcolor": "white",
            "linecolor": "white",
            "ticks": ""
           }
          },
          "scene": {
           "xaxis": {
            "backgroundcolor": "#E5ECF6",
            "gridcolor": "white",
            "gridwidth": 2,
            "linecolor": "white",
            "showbackground": true,
            "ticks": "",
            "zerolinecolor": "white"
           },
           "yaxis": {
            "backgroundcolor": "#E5ECF6",
            "gridcolor": "white",
            "gridwidth": 2,
            "linecolor": "white",
            "showbackground": true,
            "ticks": "",
            "zerolinecolor": "white"
           },
           "zaxis": {
            "backgroundcolor": "#E5ECF6",
            "gridcolor": "white",
            "gridwidth": 2,
            "linecolor": "white",
            "showbackground": true,
            "ticks": "",
            "zerolinecolor": "white"
           }
          },
          "shapedefaults": {
           "line": {
            "color": "#2a3f5f"
           }
          },
          "ternary": {
           "aaxis": {
            "gridcolor": "white",
            "linecolor": "white",
            "ticks": ""
           },
           "baxis": {
            "gridcolor": "white",
            "linecolor": "white",
            "ticks": ""
           },
           "bgcolor": "#E5ECF6",
           "caxis": {
            "gridcolor": "white",
            "linecolor": "white",
            "ticks": ""
           }
          },
          "title": {
           "x": 0.05
          },
          "xaxis": {
           "automargin": true,
           "gridcolor": "white",
           "linecolor": "white",
           "ticks": "",
           "title": {
            "standoff": 15
           },
           "zerolinecolor": "white",
           "zerolinewidth": 2
          },
          "yaxis": {
           "automargin": true,
           "gridcolor": "white",
           "linecolor": "white",
           "ticks": "",
           "title": {
            "standoff": 15
           },
           "zerolinecolor": "white",
           "zerolinewidth": 2
          }
         }
        },
        "title": {
         "text": "Agent Score Distribution"
        },
        "xaxis": {
         "anchor": "y",
         "domain": [
          0,
          1
         ],
         "title": {
          "text": "agent"
         }
        },
        "yaxis": {
         "anchor": "x",
         "domain": [
          0,
          1
         ],
         "title": {
          "text": "score"
         }
        }
       }
      }
     },
     "metadata": {},
     "output_type": "display_data"
    }
   ],
   "source": [
    "\n",
    "px.box(df, x=\"agent\", y='score', title=\"Agent Score Distribution\")"
   ]
  },
  {
   "cell_type": "code",
   "execution_count": null,
   "metadata": {},
   "outputs": [],
   "source": []
  }
 ],
 "metadata": {
  "interpreter": {
   "hash": "c6e4e9f98eb68ad3b7c296f83d20e6de614cb42e90992a65aa266555a3137d0d"
  },
  "kernelspec": {
   "display_name": "Python 3.9.12 ('base')",
   "language": "python",
   "name": "python3"
  },
  "language_info": {
   "codemirror_mode": {
    "name": "ipython",
    "version": 3
   },
   "file_extension": ".py",
   "mimetype": "text/x-python",
   "name": "python",
   "nbconvert_exporter": "python",
   "pygments_lexer": "ipython3",
   "version": "3.9.12"
  },
  "orig_nbformat": 4
 },
 "nbformat": 4,
 "nbformat_minor": 2
}
